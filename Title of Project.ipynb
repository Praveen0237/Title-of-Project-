{
 "cells": [
  {
   "cell_type": "code",
   "execution_count": 1,
   "id": "2e3bc259",
   "metadata": {},
   "outputs": [
    {
     "name": "stdout",
     "output_type": "stream",
     "text": [
      "Tile of project\n"
     ]
    }
   ],
   "source": [
    "print(\"Tile of project\")\n"
   ]
  },
  {
   "cell_type": "code",
   "execution_count": 2,
   "id": "542f733a",
   "metadata": {},
   "outputs": [
    {
     "name": "stdout",
     "output_type": "stream",
     "text": [
      "Create a Markdown cell for Introduction\n"
     ]
    }
   ],
   "source": [
    "print('Create a Markdown cell for Introduction')"
   ]
  },
  {
   "cell_type": "code",
   "execution_count": 5,
   "id": "995f599a",
   "metadata": {},
   "outputs": [
    {
     "name": "stdout",
     "output_type": "stream",
     "text": [
      "List of Data Science Language 1.Python,2.SQL,3.R Language\n"
     ]
    }
   ],
   "source": [
    "print('List of Data Science Language 1.Python,2.SQL,3.R Language')\n"
   ]
  },
  {
   "cell_type": "code",
   "execution_count": 6,
   "id": "b45e27e7",
   "metadata": {},
   "outputs": [
    {
     "name": "stdout",
     "output_type": "stream",
     "text": [
      "Numpy,Pandas,Matplotlib,scikit-Learn,Scipy\n"
     ]
    }
   ],
   "source": [
    "print('Numpy,Pandas,Matplotlib,scikit-Learn,Scipy')"
   ]
  },
  {
   "cell_type": "code",
   "execution_count": 7,
   "id": "f9cd2bf8",
   "metadata": {},
   "outputs": [
    {
     "name": "stdout",
     "output_type": "stream",
     "text": [
      "MS Excel,Apache Spark,Matlab,SAS\n"
     ]
    }
   ],
   "source": [
    "print('MS Excel,Apache Spark,Matlab,SAS')"
   ]
  },
  {
   "cell_type": "code",
   "execution_count": 10,
   "id": "e409de20",
   "metadata": {},
   "outputs": [
    {
     "name": "stdout",
     "output_type": "stream",
     "text": [
      "Arthimatic Expression\n"
     ]
    }
   ],
   "source": [
    "print ('Arthimatic Expression')"
   ]
  },
  {
   "cell_type": "code",
   "execution_count": 11,
   "id": "4efc2f6d",
   "metadata": {},
   "outputs": [
    {
     "data": {
      "text/plain": [
       "7"
      ]
     },
     "execution_count": 11,
     "metadata": {},
     "output_type": "execute_result"
    }
   ],
   "source": [
    "(3+4)"
   ]
  },
  {
   "cell_type": "code",
   "execution_count": 13,
   "id": "8920a649",
   "metadata": {},
   "outputs": [
    {
     "data": {
      "text/plain": [
       "10"
      ]
     },
     "execution_count": 13,
     "metadata": {},
     "output_type": "execute_result"
    }
   ],
   "source": [
    "(3*4)-2"
   ]
  },
  {
   "cell_type": "code",
   "execution_count": 15,
   "id": "fddb2dc4",
   "metadata": {},
   "outputs": [
    {
     "ename": "SyntaxError",
     "evalue": "invalid syntax (1890339726.py, line 1)",
     "output_type": "error",
     "traceback": [
      "\u001b[1;36m  File \u001b[1;32m\"C:\\Users\\prave\\AppData\\Local\\Temp\\ipykernel_20492\\1890339726.py\"\u001b[1;36m, line \u001b[1;32m1\u001b[0m\n\u001b[1;33m    >>>a=[2,4,6,8]\u001b[0m\n\u001b[1;37m    ^\u001b[0m\n\u001b[1;31mSyntaxError\u001b[0m\u001b[1;31m:\u001b[0m invalid syntax\n"
     ]
    }
   ],
   "source": [
    ">>>a=[2,4,6,8]\n",
    ">>>a"
   ]
  },
  {
   "cell_type": "code",
   "execution_count": null,
   "id": "289e7cee",
   "metadata": {},
   "outputs": [],
   "source": []
  }
 ],
 "metadata": {
  "kernelspec": {
   "display_name": "Python 3 (ipykernel)",
   "language": "python",
   "name": "python3"
  },
  "language_info": {
   "codemirror_mode": {
    "name": "ipython",
    "version": 3
   },
   "file_extension": ".py",
   "mimetype": "text/x-python",
   "name": "python",
   "nbconvert_exporter": "python",
   "pygments_lexer": "ipython3",
   "version": "3.9.13"
  }
 },
 "nbformat": 4,
 "nbformat_minor": 5
}
